{
 "cells": [
  {
   "cell_type": "code",
   "execution_count": 1,
   "metadata": {},
   "outputs": [
    {
     "data": {
      "text/html": [
       "<style>.container { width:80% !important; }</style>"
      ],
      "text/plain": [
       "<IPython.core.display.HTML object>"
      ]
     },
     "metadata": {},
     "output_type": "display_data"
    }
   ],
   "source": [
    "from IPython.core.display import display, HTML\n",
    "display(HTML(\"<style>.container { width:80% !important; }</style>\"))"
   ]
  },
  {
   "cell_type": "markdown",
   "metadata": {
    "colab_type": "text",
    "id": "0mZhmra3mcz6"
   },
   "source": [
    "## Exercise - DL Tutorial 5\n",
    "\n",
    "Please complete the following notebook and submit the version by the 18 May 14:15 to manuel.milling@informatik.uni-augsburg.de and maurice.gerczuk@informatik.uni-augsburg.de. (Submission is due on Tuesday as RNNs will further be discussed in Monday's lecture)"
   ]
  },
  {
   "cell_type": "markdown",
   "metadata": {
    "colab_type": "text",
    "id": "HrSPQusomcz-"
   },
   "source": [
    "## student name: Pavlo Mospan, Anastasia Karsten"
   ]
  },
  {
   "cell_type": "code",
   "execution_count": 2,
   "metadata": {
    "colab": {},
    "colab_type": "code",
    "id": "nStp1HcKmc0T"
   },
   "outputs": [],
   "source": [
    "import numpy as np\n",
    "\n",
    "np.random.seed(42)"
   ]
  },
  {
   "cell_type": "markdown",
   "metadata": {},
   "source": [
    "Implement a method that creates binary addition data."
   ]
  },
  {
   "cell_type": "code",
   "execution_count": 3,
   "metadata": {},
   "outputs": [],
   "source": [
    "def generate_data(num_examples, num_bits = 8):\n",
    "    rand_ints = np.array(np.random.randint(low=1, high=20, size=num_examples * 2), dtype=np.uint8).reshape(num_examples, 2)\n",
    "    labels_ints = np.array(np.sum(rand_ints, axis = 1)).reshape(num_examples, 1)\n",
    "    labels_ints= labels_ints.astype(np.uint8)\n",
    "    \n",
    "    rand_bits = np.unpackbits(rand_ints, axis=0).reshape(num_examples, num_bits, 2)\n",
    "    labels_bits = np.unpackbits(labels_ints, axis=0).reshape(num_examples, num_bits, 1)\n",
    "    print('Shape of data : {} | shape of labels : {}'.format(rand_bits.shape, labels_bits.shape))\n",
    "    return rand_bits, labels_bits"
   ]
  },
  {
   "cell_type": "markdown",
   "metadata": {},
   "source": [
    "Implement the RNN class, implement the forward propagation, implement the BPTT and implement the gradient step"
   ]
  },
  {
   "cell_type": "code",
   "execution_count": 4,
   "metadata": {},
   "outputs": [],
   "source": [
    "class one_layer_rnn:\n",
    "    def __init__(self, n_input, n_hidden, n_out):\n",
    "        \"\"\"\n",
    "        n_input: number of neurons in input layer: int\n",
    "        n_hidden: number of neurons in hidden layer: int\n",
    "        n_out: number of neurons in output layer: int\n",
    "        \"\"\"\n",
    "        self.W_IN = np.random.randn(n_input, n_hidden)\n",
    "        self.W_OUT = np.random.randn(n_hidden, n_out)\n",
    "\n",
    "    def forward_propagation(self, X):\n",
    "        in_hidden = 1/( 1 + np.exp( -np.tensordot(X, self.W_IN, axes=([2],[0]) ) ) )\n",
    "        hidden_out = 1/(1 + np.exp( -np.tensordot(in_hidden, self.W_OUT, axes=([2],[0]) ) ) ) \n",
    "        return hidden_out\n",
    "\n",
    "    def backprop_through_time(self, Y):\n",
    "        pass\n",
    "    \n",
    "    def gradient_step(self, learning_rate):\n",
    "        pass\n"
   ]
  },
  {
   "cell_type": "markdown",
   "metadata": {
    "colab_type": "text",
    "id": "Cu4-nHGYmc0d"
   },
   "source": [
    "Implement the mean squared error as a loss function"
   ]
  },
  {
   "cell_type": "code",
   "execution_count": 5,
   "metadata": {
    "colab": {},
    "colab_type": "code",
    "id": "Swdz9olbmc0e"
   },
   "outputs": [],
   "source": [
    "def mean_square_error(pred, Y):\n",
    "    return np.mean((pred - Y)**2)"
   ]
  },
  {
   "cell_type": "markdown",
   "metadata": {
    "colab_type": "text",
    "id": "8-6Wz94Amc0j"
   },
   "source": [
    "Iimplement the accuracy of the predictions"
   ]
  },
  {
   "cell_type": "code",
   "execution_count": 6,
   "metadata": {
    "colab": {},
    "colab_type": "code",
    "id": "4KFYwvuFmc0k"
   },
   "outputs": [],
   "source": [
    "def accuracy(pred, Y):\n",
    "    pred = pred.astype(int)\n",
    "    return np.mean(pred == Y)"
   ]
  },
  {
   "cell_type": "markdown",
   "metadata": {
    "colab_type": "text",
    "id": "qPgxqLskmc0u"
   },
   "source": [
    "Implement the learning routine\n"
   ]
  },
  {
   "cell_type": "code",
   "execution_count": 9,
   "metadata": {
    "colab": {},
    "colab_type": "code",
    "id": "NRozmS-Dmc0w"
   },
   "outputs": [
    {
     "name": "stdout",
     "output_type": "stream",
     "text": [
      "Shape of data : (100, 8, 2) | shape of labels : (100, 8, 1)\n",
      "Shape of data : (10, 8, 2) | shape of labels : (10, 8, 1)\n",
      "Iteration : \t 0\n",
      "Train Loss:\t0.29920921587736393\n",
      "Train Accuracy:\t0.66375 \n",
      "\n",
      "Iteration : \t 100\n",
      "Train Loss:\t0.29920921587736393\n",
      "Train Accuracy:\t0.66375 \n",
      "\n",
      "Iteration : \t 200\n",
      "Train Loss:\t0.29920921587736393\n",
      "Train Accuracy:\t0.66375 \n",
      "\n",
      "Iteration : \t 300\n",
      "Train Loss:\t0.29920921587736393\n",
      "Train Accuracy:\t0.66375 \n",
      "\n",
      "Iteration : \t 400\n",
      "Train Loss:\t0.29920921587736393\n",
      "Train Accuracy:\t0.66375 \n",
      "\n",
      "Iteration : \t 500\n",
      "Train Loss:\t0.29920921587736393\n",
      "Train Accuracy:\t0.66375 \n",
      "\n",
      "Iteration : \t 600\n",
      "Train Loss:\t0.29920921587736393\n",
      "Train Accuracy:\t0.66375 \n",
      "\n",
      "Iteration : \t 700\n",
      "Train Loss:\t0.29920921587736393\n",
      "Train Accuracy:\t0.66375 \n",
      "\n",
      "Iteration : \t 800\n",
      "Train Loss:\t0.29920921587736393\n",
      "Train Accuracy:\t0.66375 \n",
      "\n",
      "Iteration : \t 900\n",
      "Train Loss:\t0.29920921587736393\n",
      "Train Accuracy:\t0.66375 \n",
      "\n",
      "Iteration : \t 1000\n",
      "Train Loss:\t0.29920921587736393\n",
      "Train Accuracy:\t0.66375 \n",
      "\n"
     ]
    }
   ],
   "source": [
    "X_train, y_train = generate_data(100)\n",
    "X_test, y_test = generate_data(10)\n",
    "\n",
    "# 10000\n",
    "num_iterations = 1000\n",
    "neural_net = one_layer_rnn(2, 400, 1)\n",
    "\n",
    "for i in range(num_iterations + 1):\n",
    "    pred = neural_net.forward_propagation(X_train)\n",
    "    \n",
    "    if i % 100 == 0:\n",
    "        print('Iteration : \\t', i)\n",
    "        ce = mean_square_error(pred, y_train)\n",
    "        print(\"Train Loss:\\t{}\".format(ce))\n",
    "        \n",
    "        acc = accuracy(pred, y_train)\n",
    "        print(\"Train Accuracy:\\t{} \\n\".format(acc))"
   ]
  },
  {
   "cell_type": "code",
   "execution_count": null,
   "metadata": {},
   "outputs": [],
   "source": []
  }
 ],
 "metadata": {
  "colab": {
   "name": "DL-T1_excercise.ipynb",
   "provenance": []
  },
  "kernelspec": {
   "display_name": "Python 3",
   "language": "python",
   "name": "python3"
  },
  "language_info": {
   "codemirror_mode": {
    "name": "ipython",
    "version": 3
   },
   "file_extension": ".py",
   "mimetype": "text/x-python",
   "name": "python",
   "nbconvert_exporter": "python",
   "pygments_lexer": "ipython3",
   "version": "3.8.5"
  }
 },
 "nbformat": 4,
 "nbformat_minor": 1
}
