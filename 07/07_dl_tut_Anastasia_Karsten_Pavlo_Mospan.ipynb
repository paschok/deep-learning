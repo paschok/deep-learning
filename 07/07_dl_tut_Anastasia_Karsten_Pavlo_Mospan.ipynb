{
 "cells": [
  {
   "cell_type": "markdown",
   "metadata": {},
   "source": [
    "## Exercise - DL Tutorial 07\n",
    "\n",
    "### student names:\n",
    "\n",
    "Submit you solution by 01 June to manuel.milling@informatik.uni-augsburg.de AND maurice.gerczuk@informatik.uni-augsburg.de"
   ]
  },
  {
   "cell_type": "code",
   "execution_count": 1,
   "metadata": {},
   "outputs": [],
   "source": [
    "import numpy as np\n",
    "import matplotlib.pyplot as plt\n",
    "import librosa\n",
    "from os.path import basename\n",
    "from glob import glob\n",
    "import tensorflow as tf\n",
    "from tensorflow.keras.models import Sequential\n",
    "from tensorflow.keras.layers import Dropout, Conv2D, MaxPooling2D, BatchNormalization, Dense, Activation, Flatten\n",
    "from tensorflow.keras.callbacks import EarlyStopping\n",
    "from tensorflow.keras.optimizers import Adam\n",
    "from sklearn.metrics import confusion_matrix"
   ]
  },
  {
   "cell_type": "code",
   "execution_count": 2,
   "metadata": {},
   "outputs": [],
   "source": [
    "#train_speakers = [\"03\", \"08\", \"09\", \"10\", \"11\", \"12\", \"13\"]\n",
    "train_speakers = [\"03\", \"08\", \"09\", \"10\", \"11\"]\n",
    "validation_speakers = [\"12\", \"13\"]\n",
    "test_speakers = [\"14\", \"15\", \"16\"]\n",
    "data_path = \"emodb/wav/\"\n",
    "label_dict = {\"A\" : 0, \"F\": 1, \"L\": 2, \"N\": 3, \"T\": 4, \"W\": 5, \"E\": 6}\n",
    "num_classes = len(label_dict.keys())\n",
    "cutoff_length = 4 #s"
   ]
  },
  {
   "cell_type": "markdown",
   "metadata": {},
   "source": [
    "2. Prepare data and labels by cutting/zero-padding to 4 seconds, extracting spectrograms. "
   ]
  },
  {
   "cell_type": "code",
   "execution_count": 3,
   "metadata": {},
   "outputs": [
    {
     "data": {
      "text/plain": [
       "(535, 'emodb/wav/03a01Fa.wav')"
      ]
     },
     "execution_count": 3,
     "metadata": {},
     "output_type": "execute_result"
    }
   ],
   "source": [
    "files = glob(data_path + \"*.wav\")\n",
    "files.sort()\n",
    "\n",
    "len(files), files[0]"
   ]
  },
  {
   "cell_type": "code",
   "execution_count": 4,
   "metadata": {
    "tags": []
   },
   "outputs": [],
   "source": [
    "files = glob(data_path + \"*.wav\")\n",
    "files.sort()\n",
    "\n",
    "x_train = []\n",
    "y_train = []\n",
    "\n",
    "x_test = []\n",
    "y_test = []\n",
    "\n",
    "x_validation = []\n",
    "y_validation = []\n",
    "\n",
    "for f in files:\n",
    "    signal, sr = librosa.load(f)\n",
    "    max_len = sr * 4\n",
    "    if len(signal) > max_len:\n",
    "        signal = signal[:max_len]\n",
    "    elif len(signal < max_len):\n",
    "        zeros = np.zeros(max_len - len(signal))\n",
    "        signal = np.append(signal, zeros)\n",
    "\n",
    "    spec = librosa.feature.melspectrogram(y=signal, n_fft = 4096, sr=44100)\n",
    "    spec = librosa.power_to_db(spec)\n",
    "\n",
    "    name = f[-11:]\n",
    "    tag = name[0:2]\n",
    "    feeling = name[5]\n",
    "\n",
    "    if tag in train_speakers:\n",
    "        x_train.append(spec)\n",
    "        y_train.append(label_dict[feeling])\n",
    "    elif tag in validation_speakers:\n",
    "        x_validation.append(spec)\n",
    "        y_validation.append(label_dict[feeling])\n",
    "    elif tag in test_speakers:\n",
    "        x_test.append(spec)\n",
    "        y_test.append(label_dict[feeling])\n",
    "\n",
    "x_test = np.asarray(x_test)\n",
    "y_test = np.asarray(y_test)\n",
    "y_test = tf.keras.utils.to_categorical(y_test)\n",
    "\n",
    "x_train = np.asarray(x_train)\n",
    "y_train = np.asarray(y_train)\n",
    "y_train = tf.keras.utils.to_categorical(y_train)\n",
    "\n",
    "x_validation = np.asarray(x_validation)\n",
    "y_validation = np.asarray(y_validation)\n",
    "y_validation = tf.keras.utils.to_categorical(y_validation)"
   ]
  },
  {
   "cell_type": "code",
   "execution_count": 5,
   "metadata": {},
   "outputs": [
    {
     "data": {
      "image/png": "[encoded data removed]",
      "text/plain": [
       "<Figure size 432x288 with 2 Axes>"
      ]
     },
     "metadata": {
      "needs_background": "light"
     },
     "output_type": "display_data"
    }
   ],
   "source": [
    "plt.imshow(x_test[0])\n",
    "plt.colorbar()\n",
    "plt.show()"
   ]
  },
  {
   "cell_type": "code",
   "execution_count": 6,
   "metadata": {
    "scrolled": true
   },
   "outputs": [
    {
     "name": "stdout",
     "output_type": "stream",
     "text": [
      "x_train shape:\t\t(243, 128, 173)\n",
      "x_validation shape:\t(96, 128, 173)\n",
      "x_test shape:\t\t(196, 128, 173)\n",
      "y_train shape:\t\t(243, 7)\n",
      "y_validation shape:\t(96, 7)\n",
      "y_test shape:\t\t(196, 7)\n"
     ]
    }
   ],
   "source": [
    "print(\"x_train shape:\\t\\t{}\".format(x_train.shape))\n",
    "print(\"x_validation shape:\\t{}\".format(x_validation.shape))\n",
    "print(\"x_test shape:\\t\\t{}\".format(x_test.shape))\n",
    "print(\"y_train shape:\\t\\t{}\".format(y_train.shape))\n",
    "print(\"y_validation shape:\\t{}\".format(y_validation.shape))\n",
    "print(\"y_test shape:\\t\\t{}\".format(y_test.shape))"
   ]
  },
  {
   "cell_type": "markdown",
   "metadata": {},
   "source": [
    "#### Reshaping data to receive 4 dimensions \n",
    "#### [None, height, width, channel]"
   ]
  },
  {
   "cell_type": "code",
   "execution_count": 7,
   "metadata": {},
   "outputs": [
    {
     "data": {
      "text/plain": [
       "(243, 128, 173, 1)"
      ]
     },
     "execution_count": 7,
     "metadata": {},
     "output_type": "execute_result"
    }
   ],
   "source": [
    "x_train_reshaped = x_train.reshape(list(x_train.shape) + [1]) \n",
    "x_train_reshaped.shape"
   ]
  },
  {
   "cell_type": "code",
   "execution_count": 10,
   "metadata": {},
   "outputs": [
    {
     "data": {
      "text/plain": [
       "(96, 128, 173, 1)"
      ]
     },
     "execution_count": 10,
     "metadata": {},
     "output_type": "execute_result"
    }
   ],
   "source": [
    "x_validation_reshaped = x_validation.reshape(list(x_validation.shape) + [1]) \n",
    "x_validation_reshaped.shape"
   ]
  },
  {
   "cell_type": "code",
   "execution_count": 22,
   "metadata": {},
   "outputs": [
    {
     "data": {
      "text/plain": [
       "(196, 128, 173, 1)"
      ]
     },
     "execution_count": 22,
     "metadata": {},
     "output_type": "execute_result"
    }
   ],
   "source": [
    "x_test_reshape = x_test.reshape(list(x_test.shape) + [1]) \n",
    "x_test_reshape.shape"
   ]
  },
  {
   "cell_type": "markdown",
   "metadata": {},
   "source": [
    "3. Implement CNN-based model"
   ]
  },
  {
   "cell_type": "code",
   "execution_count": 24,
   "metadata": {},
   "outputs": [],
   "source": [
    "tf.keras.backend.clear_session()\n",
    "np.random.seed(42)\n",
    "tf.random.set_seed(42)"
   ]
  },
  {
   "cell_type": "code",
   "execution_count": 27,
   "metadata": {},
   "outputs": [
    {
     "name": "stdout",
     "output_type": "stream",
     "text": [
      "Model: \"sequential_1\"\n",
      "_________________________________________________________________\n",
      "Layer (type)                 Output Shape              Param #   \n",
      "=================================================================\n",
      "conv2d_3 (Conv2D)            (None, 126, 171, 8)       80        \n",
      "_________________________________________________________________\n",
      "batch_normalization_2 (Batch (None, 126, 171, 8)       32        \n",
      "_________________________________________________________________\n",
      "max_pooling2d_3 (MaxPooling2 (None, 63, 85, 8)         0         \n",
      "_________________________________________________________________\n",
      "conv2d_4 (Conv2D)            (None, 61, 83, 16)        1168      \n",
      "_________________________________________________________________\n",
      "max_pooling2d_4 (MaxPooling2 (None, 30, 41, 16)        0         \n",
      "_________________________________________________________________\n",
      "flatten_1 (Flatten)          (None, 19680)             0         \n",
      "_________________________________________________________________\n",
      "dense_1 (Dense)              (None, 7)                 137767    \n",
      "=================================================================\n",
      "Total params: 139,047\n",
      "Trainable params: 139,031\n",
      "Non-trainable params: 16\n",
      "_________________________________________________________________\n"
     ]
    }
   ],
   "source": [
    "model = Sequential([\n",
    "    Conv2D(filters = 8, kernel_size = 3, strides=1, activation=\"relu\", padding=\"valid\", \n",
    "                           input_shape=x_train_reshaped.shape[1:]),\n",
    "    BatchNormalization(),\n",
    "    MaxPooling2D(pool_size = 2, strides = 2),\n",
    "    Conv2D(16, 3, strides = 1, activation=\"relu\"),\n",
    "    MaxPooling2D(pool_size = 2, strides = 2),\n",
    "    Flatten(),\n",
    "    Dense(7, activation=\"softmax\")\n",
    "])\n",
    "\n",
    "model.compile(optimizer = Adam(), loss=\"categorical_crossentropy\", metrics=['accuracy'])\n",
    "\n",
    "model.summary()"
   ]
  },
  {
   "cell_type": "markdown",
   "metadata": {},
   "source": [
    "4. Train model with early stopping. Evaluate on test data and plot the training history."
   ]
  },
  {
   "cell_type": "code",
   "execution_count": 28,
   "metadata": {},
   "outputs": [
    {
     "name": "stdout",
     "output_type": "stream",
     "text": [
      "Epoch 1/30\n",
      "16/16 [==============================] - 2s 92ms/step - loss: 5.2993 - accuracy: 0.2716 - val_loss: 4.0279 - val_accuracy: 0.2292\n",
      "Epoch 2/30\n",
      "16/16 [==============================] - 1s 84ms/step - loss: 0.9689 - accuracy: 0.6461 - val_loss: 1.7081 - val_accuracy: 0.4271\n",
      "Epoch 3/30\n",
      "16/16 [==============================] - 1s 85ms/step - loss: 0.4687 - accuracy: 0.8436 - val_loss: 1.4331 - val_accuracy: 0.5312\n",
      "Epoch 4/30\n",
      "16/16 [==============================] - 1s 86ms/step - loss: 0.2333 - accuracy: 0.9300 - val_loss: 1.8142 - val_accuracy: 0.5312\n",
      "Epoch 5/30\n",
      "16/16 [==============================] - 1s 87ms/step - loss: 0.1062 - accuracy: 0.9877 - val_loss: 1.3365 - val_accuracy: 0.5729\n",
      "Epoch 6/30\n",
      "16/16 [==============================] - 1s 87ms/step - loss: 0.0596 - accuracy: 0.9959 - val_loss: 1.2185 - val_accuracy: 0.6354\n",
      "Epoch 7/30\n",
      "16/16 [==============================] - 1s 87ms/step - loss: 0.0364 - accuracy: 1.0000 - val_loss: 1.2788 - val_accuracy: 0.6146\n",
      "Epoch 8/30\n",
      "16/16 [==============================] - 1s 86ms/step - loss: 0.0244 - accuracy: 1.0000 - val_loss: 1.1731 - val_accuracy: 0.6979\n",
      "Epoch 9/30\n",
      "16/16 [==============================] - 1s 87ms/step - loss: 0.0184 - accuracy: 1.0000 - val_loss: 1.2007 - val_accuracy: 0.6979\n",
      "Epoch 10/30\n",
      "16/16 [==============================] - 1s 89ms/step - loss: 0.0136 - accuracy: 1.0000 - val_loss: 1.2245 - val_accuracy: 0.6562\n",
      "Epoch 11/30\n",
      "16/16 [==============================] - 1s 88ms/step - loss: 0.0100 - accuracy: 1.0000 - val_loss: 1.1899 - val_accuracy: 0.6979\n",
      "Epoch 12/30\n",
      "16/16 [==============================] - 1s 90ms/step - loss: 0.0088 - accuracy: 1.0000 - val_loss: 1.2126 - val_accuracy: 0.6875\n",
      "Epoch 13/30\n",
      "16/16 [==============================] - 1s 89ms/step - loss: 0.0073 - accuracy: 1.0000 - val_loss: 1.2161 - val_accuracy: 0.6875\n"
     ]
    }
   ],
   "source": [
    "from tensorflow.keras.callbacks import EarlyStopping, ModelCheckpoint\n",
    "\n",
    "early_stopping_cb = EarlyStopping(patience=5, restore_best_weights=True)\n",
    "\n",
    "\n",
    "history = model.fit(x_train_reshaped, y_train, epochs=30, batch_size=16, \n",
    "                    validation_data=(x_validation_reshaped, y_validation),\n",
    "                   callbacks=[early_stopping_cb])"
   ]
  },
  {
   "cell_type": "code",
   "execution_count": 29,
   "metadata": {},
   "outputs": [
    {
     "data": {
      "image/png": "[encoded data removed]",
      "text/plain": [
       "<Figure size 432x288 with 1 Axes>"
      ]
     },
     "metadata": {
      "needs_background": "light"
     },
     "output_type": "display_data"
    },
    {
     "data": {
      "image/png": "[encoded data removed]",
      "text/plain": [
       "<Figure size 432x288 with 1 Axes>"
      ]
     },
     "metadata": {
      "needs_background": "light"
     },
     "output_type": "display_data"
    }
   ],
   "source": [
    "p = plt.figure(1)\n",
    "plt.plot(history.history['loss'], label=\"Training\")\n",
    "plt.plot(history.history['val_loss'], label=\"Validation\")\n",
    "plt.ylabel('Loss')\n",
    "plt.xlabel('No. epoch')\n",
    "plt.legend(loc=\"upper right\")\n",
    "\n",
    "p2 = plt.figure(2)\n",
    "plt.plot(history.history['accuracy'], label=\"Training\")\n",
    "plt.plot(history.history['val_accuracy'], label=\"Validation\")\n",
    "plt.ylabel('Accuracy')\n",
    "plt.xlabel('No. epoch')\n",
    "plt.legend(loc=\"lower right\")\n",
    "\n",
    "plt.show()"
   ]
  },
  {
   "cell_type": "markdown",
   "metadata": {},
   "source": [
    "#### Model overfits badly"
   ]
  },
  {
   "cell_type": "code",
   "execution_count": 30,
   "metadata": {},
   "outputs": [
    {
     "name": "stdout",
     "output_type": "stream",
     "text": [
      "7/7 [==============================] - 0s 31ms/step - loss: 2.0961 - accuracy: 0.5255\n"
     ]
    },
    {
     "data": {
      "text/plain": [
       "[2.096146821975708, 0.5255101919174194]"
      ]
     },
     "execution_count": 30,
     "metadata": {},
     "output_type": "execute_result"
    }
   ],
   "source": [
    "model.evaluate(x_test_reshape, y_test)"
   ]
  },
  {
   "cell_type": "code",
   "execution_count": null,
   "metadata": {},
   "outputs": [],
   "source": []
  }
 ],
 "metadata": {
  "kernelspec": {
   "display_name": "Python 3",
   "language": "python",
   "name": "python3"
  },
  "language_info": {
   "codemirror_mode": {
    "name": "ipython",
    "version": 3
   },
   "file_extension": ".py",
   "mimetype": "text/x-python",
   "name": "python",
   "nbconvert_exporter": "python",
   "pygments_lexer": "ipython3",
   "version": "3.8.5"
  },
  "metadata": {
   "interpreter": {
    "hash": "e7370f93d1d0cde622a1f8e1c04877d8463912d04d973331ad4851f04de6915a"
   }
  }
 },
 "nbformat": 4,
 "nbformat_minor": 2
}
