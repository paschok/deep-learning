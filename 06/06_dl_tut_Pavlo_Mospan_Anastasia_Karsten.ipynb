{
 "cells": [
  {
   "cell_type": "markdown",
   "metadata": {
    "colab": {
     "base_uri": "https://localhost:8080/",
     "height": 81
    },
    "colab_type": "code",
    "id": "Qu7q0SK01E3y",
    "outputId": "9a20f45a-3107-47f0-9520-6d36cef84587"
   },
   "source": [
    "## Exercise - DL Tutorial 06\n",
    "\n",
    "### student names:\n",
    "\n",
    "Submit you solution by 25 May to manuel.milling@informatik.uni-augsburg.de AND maurice.gerczuk@informatik.uni-augsburg.de"
   ]
  },
  {
   "cell_type": "code",
   "execution_count": 1,
   "metadata": {},
   "outputs": [
    {
     "data": {
      "text/html": [
       "<style>.container { width:80% !important; }</style>"
      ],
      "text/plain": [
       "<IPython.core.display.HTML object>"
      ]
     },
     "metadata": {},
     "output_type": "display_data"
    }
   ],
   "source": [
    "from IPython.core.display import display, HTML\n",
    "display(HTML(\"<style>.container { width:80% !important; }</style>\"))"
   ]
  },
  {
   "cell_type": "code",
   "execution_count": 2,
   "metadata": {},
   "outputs": [],
   "source": [
    "import tensorflow as tf\n",
    "from tensorflow.keras import Input\n",
    "from tensorflow.keras.models import Sequential\n",
    "from tensorflow.keras.layers import Dense, Activation, Flatten, Dropout\n",
    "from tensorflow.keras.optimizers import Adam, SGD, RMSprop\n",
    "\n",
    "import numpy as np\n",
    "\n",
    "tf.get_logger().setLevel('ERROR')"
   ]
  },
  {
   "cell_type": "markdown",
   "metadata": {},
   "source": [
    "#### Load MNIST data like in tutorial 3."
   ]
  },
  {
   "cell_type": "code",
   "execution_count": 3,
   "metadata": {
    "colab": {
     "base_uri": "https://localhost:8080/",
     "height": 69
    },
    "colab_type": "code",
    "id": "uOM1I_Ng2XM7",
    "outputId": "1690ff00-0437-498c-9060-b33709256766"
   },
   "outputs": [
    {
     "name": "stdout",
     "output_type": "stream",
     "text": [
      "x_train shape:\t (60000, 784)\n",
      "y_train shape:\t (60000,)\n",
      "x_test shape:\t (10000, 784)\n",
      "y_test shape:\t (10000,)\n"
     ]
    }
   ],
   "source": [
    "from tensorflow.keras.datasets import mnist\n",
    "num_classes = 10\n",
    "\n",
    "(x_train, y_train), (x_test, y_test) = mnist.load_data()\n",
    "x_train = x_train.astype(np.float32) / 255\n",
    "x_test = x_test.astype(np.float32) / 255\n",
    "\n",
    "x_train = x_train.reshape(x_train.shape[0], -1)\n",
    "x_test = x_test.reshape(x_test.shape[0], -1)\n",
    "\n",
    "print('x_train shape:\\t', x_train.shape)\n",
    "print('y_train shape:\\t', y_train.shape)\n",
    "print('x_test shape:\\t', x_test.shape)\n",
    "print('y_test shape:\\t', y_test.shape)"
   ]
  },
  {
   "cell_type": "markdown",
   "metadata": {},
   "source": [
    "#### Create one-hot target labels for the TensorFlow model."
   ]
  },
  {
   "cell_type": "code",
   "execution_count": 4,
   "metadata": {},
   "outputs": [],
   "source": [
    "y_train = tf.keras.utils.to_categorical(y_train)\n",
    "y_test = tf.keras.utils.to_categorical(y_test)"
   ]
  },
  {
   "cell_type": "markdown",
   "metadata": {
    "colab_type": "text",
    "id": "uu-xn6ibDMfY"
   },
   "source": [
    "### 2. Implement model with Sequential API"
   ]
  },
  {
   "cell_type": "code",
   "execution_count": 5,
   "metadata": {},
   "outputs": [
    {
     "data": {
      "text/plain": [
       "(784,)"
      ]
     },
     "execution_count": 5,
     "metadata": {},
     "output_type": "execute_result"
    }
   ],
   "source": [
    "x_train.shape[1:]"
   ]
  },
  {
   "cell_type": "markdown",
   "metadata": {},
   "source": [
    "#### Define model."
   ]
  },
  {
   "cell_type": "code",
   "execution_count": 7,
   "metadata": {},
   "outputs": [],
   "source": [
    "tf.keras.backend.clear_session()\n",
    "np.random.seed(42)\n",
    "tf.random.set_seed(42)"
   ]
  },
  {
   "cell_type": "code",
   "execution_count": 8,
   "metadata": {
    "colab": {},
    "colab_type": "code",
    "id": "xSLpykL3CttQ"
   },
   "outputs": [],
   "source": [
    "model_seq = Sequential([\n",
    "    Flatten(),\n",
    "    Dense(400, activation=\"sigmoid\"),\n",
    "    Dense(400, activation=\"sigmoid\"),\n",
    "    Dense(10, activation=\"softmax\")\n",
    "])\n",
    "\n",
    "model_seq.compile(optimizer=SGD(learning_rate=0.1), \n",
    "                  loss=\"categorical_crossentropy\", \n",
    "                  metrics=['accuracy'])"
   ]
  },
  {
   "cell_type": "markdown",
   "metadata": {},
   "source": [
    "#### Train model."
   ]
  },
  {
   "cell_type": "code",
   "execution_count": 9,
   "metadata": {
    "scrolled": false
   },
   "outputs": [
    {
     "name": "stdout",
     "output_type": "stream",
     "text": [
      "Epoch 1/5\n",
      "938/938 [==============================] - 4s 4ms/step - loss: 1.1494 - accuracy: 0.6402\n",
      "Epoch 2/5\n",
      "938/938 [==============================] - 4s 4ms/step - loss: 0.4150 - accuracy: 0.8815\n",
      "Epoch 3/5\n",
      "938/938 [==============================] - 4s 4ms/step - loss: 0.3468 - accuracy: 0.8994\n",
      "Epoch 4/5\n",
      "938/938 [==============================] - 3s 4ms/step - loss: 0.3182 - accuracy: 0.9068\n",
      "Epoch 5/5\n",
      "938/938 [==============================] - 4s 4ms/step - loss: 0.2986 - accuracy: 0.9132\n"
     ]
    }
   ],
   "source": [
    "history_seq = model_seq.fit(x_train, y_train, epochs=5, batch_size=64)"
   ]
  },
  {
   "cell_type": "markdown",
   "metadata": {},
   "source": [
    "#### Evaluate Model"
   ]
  },
  {
   "cell_type": "code",
   "execution_count": 10,
   "metadata": {},
   "outputs": [
    {
     "name": "stdout",
     "output_type": "stream",
     "text": [
      "313/313 [==============================] - 1s 1ms/step - loss: 0.2986 - accuracy: 0.9145\n"
     ]
    },
    {
     "data": {
      "text/plain": [
       "[0.29861342906951904, 0.9144999980926514]"
      ]
     },
     "execution_count": 10,
     "metadata": {},
     "output_type": "execute_result"
    }
   ],
   "source": [
    "model_seq.evaluate(x_test, y_test)"
   ]
  },
  {
   "cell_type": "code",
   "execution_count": 11,
   "metadata": {},
   "outputs": [
    {
     "name": "stdout",
     "output_type": "stream",
     "text": [
      "Model: \"sequential\"\n",
      "_________________________________________________________________\n",
      "Layer (type)                 Output Shape              Param #   \n",
      "=================================================================\n",
      "flatten (Flatten)            (None, 784)               0         \n",
      "_________________________________________________________________\n",
      "dense (Dense)                (None, 400)               314000    \n",
      "_________________________________________________________________\n",
      "dense_1 (Dense)              (None, 400)               160400    \n",
      "_________________________________________________________________\n",
      "dense_2 (Dense)              (None, 10)                4010      \n",
      "=================================================================\n",
      "Total params: 478,410\n",
      "Trainable params: 478,410\n",
      "Non-trainable params: 0\n",
      "_________________________________________________________________\n"
     ]
    }
   ],
   "source": [
    "model_seq.summary()"
   ]
  },
  {
   "cell_type": "markdown",
   "metadata": {},
   "source": [
    "### 3. Implement model with functional API"
   ]
  },
  {
   "cell_type": "markdown",
   "metadata": {},
   "source": [
    "#### Define model."
   ]
  },
  {
   "cell_type": "code",
   "execution_count": 12,
   "metadata": {},
   "outputs": [],
   "source": [
    "tf.keras.backend.clear_session()\n",
    "np.random.seed(42)\n",
    "tf.random.set_seed(42)"
   ]
  },
  {
   "cell_type": "code",
   "execution_count": 13,
   "metadata": {},
   "outputs": [],
   "source": [
    "input_ = tf.keras.layers.Input(shape = x_train.shape[1:])\n",
    "hidden1 = Dense(400, activation=\"sigmoid\") (input_)\n",
    "hidden2 = Dense(400, activation=\"sigmoid\") (hidden1)\n",
    "output_ = Dense(10, activation=\"softmax\") (hidden2)\n",
    "model_func = tf.keras.Model(inputs=[input_], outputs=[output_], name = \"model_func\")"
   ]
  },
  {
   "cell_type": "code",
   "execution_count": 14,
   "metadata": {
    "scrolled": false
   },
   "outputs": [
    {
     "name": "stdout",
     "output_type": "stream",
     "text": [
      "Model: \"model_func\"\n",
      "_________________________________________________________________\n",
      "Layer (type)                 Output Shape              Param #   \n",
      "=================================================================\n",
      "input_1 (InputLayer)         [(None, 784)]             0         \n",
      "_________________________________________________________________\n",
      "dense (Dense)                (None, 400)               314000    \n",
      "_________________________________________________________________\n",
      "dense_1 (Dense)              (None, 400)               160400    \n",
      "_________________________________________________________________\n",
      "dense_2 (Dense)              (None, 10)                4010      \n",
      "=================================================================\n",
      "Total params: 478,410\n",
      "Trainable params: 478,410\n",
      "Non-trainable params: 0\n",
      "_________________________________________________________________\n"
     ]
    }
   ],
   "source": [
    "model_func.summary()"
   ]
  },
  {
   "cell_type": "markdown",
   "metadata": {},
   "source": [
    "#### Train model"
   ]
  },
  {
   "cell_type": "code",
   "execution_count": 15,
   "metadata": {
    "scrolled": false
   },
   "outputs": [
    {
     "name": "stdout",
     "output_type": "stream",
     "text": [
      "Epoch 1/5\n",
      "938/938 [==============================] - 5s 5ms/step - loss: 1.1494 - accuracy: 0.6402\n",
      "Epoch 2/5\n",
      "938/938 [==============================] - 4s 4ms/step - loss: 0.4150 - accuracy: 0.8815\n",
      "Epoch 3/5\n",
      "938/938 [==============================] - 3s 4ms/step - loss: 0.3468 - accuracy: 0.8994\n",
      "Epoch 4/5\n",
      "938/938 [==============================] - 3s 4ms/step - loss: 0.3182 - accuracy: 0.9068\n",
      "Epoch 5/5\n",
      "938/938 [==============================] - 4s 4ms/step - loss: 0.2986 - accuracy: 0.9132\n"
     ]
    }
   ],
   "source": [
    "model_func.compile(loss=\"categorical_crossentropy\",\n",
    "              optimizer=SGD(learning_rate=0.1),\n",
    "              metrics=[\"accuracy\"])\n",
    "\n",
    "history_func = model_func.fit(x_train, y_train, epochs=5, batch_size=64)"
   ]
  },
  {
   "cell_type": "markdown",
   "metadata": {},
   "source": [
    "#### Evaluate Model"
   ]
  },
  {
   "cell_type": "code",
   "execution_count": 16,
   "metadata": {},
   "outputs": [
    {
     "name": "stdout",
     "output_type": "stream",
     "text": [
      "313/313 [==============================] - 1s 1ms/step - loss: 0.2986 - accuracy: 0.9145\n"
     ]
    },
    {
     "data": {
      "text/plain": [
       "[0.29861342906951904, 0.9144999980926514]"
      ]
     },
     "execution_count": 16,
     "metadata": {},
     "output_type": "execute_result"
    }
   ],
   "source": [
    "model_func.evaluate(x_test, y_test)"
   ]
  },
  {
   "cell_type": "markdown",
   "metadata": {},
   "source": [
    "### 4. Train model with validation split for 20 epochs"
   ]
  },
  {
   "cell_type": "code",
   "execution_count": 17,
   "metadata": {},
   "outputs": [],
   "source": [
    "tf.keras.backend.clear_session()\n",
    "np.random.seed(42)\n",
    "tf.random.set_seed(42)"
   ]
  },
  {
   "cell_type": "code",
   "execution_count": 18,
   "metadata": {},
   "outputs": [],
   "source": [
    "input_ = tf.keras.layers.Input(shape = x_train.shape[1:])\n",
    "hidden1 = Dense(400, activation=\"sigmoid\") (input_)\n",
    "hidden2 = Dense(400, activation=\"sigmoid\") (hidden1)\n",
    "output_ = Dense(10, activation=\"softmax\") (hidden2)\n",
    "model_func_2 = tf.keras.Model(inputs=[input_], outputs=[output_], name = \"model_func_2\")\n",
    "\n",
    "model_func_2.compile(loss=\"categorical_crossentropy\",\n",
    "              optimizer=SGD(learning_rate=0.1),\n",
    "              metrics=[\"accuracy\"])"
   ]
  },
  {
   "cell_type": "code",
   "execution_count": 19,
   "metadata": {},
   "outputs": [
    {
     "name": "stdout",
     "output_type": "stream",
     "text": [
      "Epoch 1/15\n",
      "750/750 [==============================] - 3s 4ms/step - loss: 1.3155 - accuracy: 0.5782 - val_loss: 0.5587 - val_accuracy: 0.8372\n",
      "Epoch 2/15\n",
      "750/750 [==============================] - 3s 4ms/step - loss: 0.4645 - accuracy: 0.8683 - val_loss: 0.3701 - val_accuracy: 0.8940\n",
      "Epoch 3/15\n",
      "750/750 [==============================] - 3s 4ms/step - loss: 0.3740 - accuracy: 0.8920 - val_loss: 0.3268 - val_accuracy: 0.9061\n",
      "Epoch 4/15\n",
      "750/750 [==============================] - 3s 4ms/step - loss: 0.3404 - accuracy: 0.9010 - val_loss: 0.3066 - val_accuracy: 0.9093\n",
      "Epoch 5/15\n",
      "750/750 [==============================] - 3s 4ms/step - loss: 0.3179 - accuracy: 0.9079 - val_loss: 0.2977 - val_accuracy: 0.9149\n",
      "Epoch 6/15\n",
      "750/750 [==============================] - 3s 4ms/step - loss: 0.3038 - accuracy: 0.9115 - val_loss: 0.2758 - val_accuracy: 0.9202\n",
      "Epoch 7/15\n",
      "750/750 [==============================] - 3s 4ms/step - loss: 0.2904 - accuracy: 0.9143 - val_loss: 0.2663 - val_accuracy: 0.9230\n",
      "Epoch 8/15\n",
      "750/750 [==============================] - 3s 4ms/step - loss: 0.2793 - accuracy: 0.9191 - val_loss: 0.2631 - val_accuracy: 0.9233\n",
      "Epoch 9/15\n",
      "750/750 [==============================] - 3s 4ms/step - loss: 0.2693 - accuracy: 0.9204 - val_loss: 0.2574 - val_accuracy: 0.9255\n",
      "Epoch 10/15\n",
      "750/750 [==============================] - 3s 4ms/step - loss: 0.2585 - accuracy: 0.9246 - val_loss: 0.2493 - val_accuracy: 0.9275\n",
      "Epoch 11/15\n",
      "750/750 [==============================] - 3s 4ms/step - loss: 0.2485 - accuracy: 0.9274 - val_loss: 0.2373 - val_accuracy: 0.9312\n",
      "Epoch 12/15\n",
      "750/750 [==============================] - 3s 4ms/step - loss: 0.2383 - accuracy: 0.9304 - val_loss: 0.2306 - val_accuracy: 0.9345\n",
      "Epoch 13/15\n",
      "750/750 [==============================] - 3s 4ms/step - loss: 0.2280 - accuracy: 0.9335 - val_loss: 0.2298 - val_accuracy: 0.9336\n",
      "Epoch 14/15\n",
      "750/750 [==============================] - 3s 4ms/step - loss: 0.2192 - accuracy: 0.9355 - val_loss: 0.2161 - val_accuracy: 0.9383\n",
      "Epoch 15/15\n",
      "750/750 [==============================] - 3s 4ms/step - loss: 0.2097 - accuracy: 0.9395 - val_loss: 0.2072 - val_accuracy: 0.9423\n"
     ]
    }
   ],
   "source": [
    "# The sheet says 15 epochs but markdown text in notebook 20 .. we didn't know what to choose\n",
    "history_func_2 = model_func_2.fit(x_train, y_train, epochs=15, batch_size=64, validation_split=0.2)"
   ]
  },
  {
   "cell_type": "markdown",
   "metadata": {},
   "source": [
    "#### Plot training progress."
   ]
  },
  {
   "cell_type": "code",
   "execution_count": 20,
   "metadata": {
    "colab": {
     "base_uri": "https://localhost:8080/",
     "height": 295
    },
    "colab_type": "code",
    "id": "ApPkGrvGC_78",
    "outputId": "52a99e2a-7679-4345-cfde-8b414d07b753",
    "scrolled": true
   },
   "outputs": [
    {
     "data": {
      "image/png": "[encoded data removed]",
      "text/plain": [
       "<Figure size 576x360 with 1 Axes>"
      ]
     },
     "metadata": {
      "needs_background": "light"
     },
     "output_type": "display_data"
    }
   ],
   "source": [
    "import pandas as pd\n",
    "import matplotlib.pyplot as plt\n",
    "\n",
    "\n",
    "# Learning curves: the mean training loss and accuracy measured over each epoch, \n",
    "# and the mean validation loss and accuracy measured at the end of each epoch\n",
    "\n",
    "# Option 1\n",
    "\n",
    "pd.DataFrame(history_func_2.history).plot(figsize=(8, 5))\n",
    "plt.grid(True)\n",
    "plt.gca().set_ylim(0, 1)\n",
    "plt.show() "
   ]
  },
  {
   "cell_type": "code",
   "execution_count": 21,
   "metadata": {},
   "outputs": [
    {
     "data": {
      "image/png": "[encoded data removed]",
      "text/plain": [
       "<Figure size 432x288 with 1 Axes>"
      ]
     },
     "metadata": {
      "needs_background": "light"
     },
     "output_type": "display_data"
    },
    {
     "data": {
      "image/png": "[encoded data removed]",
      "text/plain": [
       "<Figure size 432x288 with 1 Axes>"
      ]
     },
     "metadata": {
      "needs_background": "light"
     },
     "output_type": "display_data"
    }
   ],
   "source": [
    "# Option 2\n",
    "\n",
    "p = plt.figure(1)\n",
    "plt.plot(history_func_2.history['loss'], label=\"Training\")\n",
    "plt.plot(history_func_2.history['val_loss'], label=\"Validation\")\n",
    "plt.ylabel('Loss')\n",
    "plt.xlabel('No. epoch')\n",
    "plt.legend(loc=\"upper right\")\n",
    "\n",
    "p2 = plt.figure(2)\n",
    "plt.plot(history_func_2.history['accuracy'], label=\"Training\")\n",
    "plt.plot(history_func_2.history['val_accuracy'], label=\"Validation\")\n",
    "plt.ylabel('Accuracy')\n",
    "plt.xlabel('No. epoch')\n",
    "plt.legend(loc=\"lower right\")\n",
    "\n",
    "plt.show()"
   ]
  },
  {
   "cell_type": "markdown",
   "metadata": {},
   "source": [
    "### 5/6. Improve Test result to > 98%"
   ]
  },
  {
   "cell_type": "code",
   "execution_count": 46,
   "metadata": {},
   "outputs": [],
   "source": [
    "tf.keras.backend.clear_session()\n",
    "np.random.seed(42)\n",
    "tf.random.set_seed(42)"
   ]
  },
  {
   "cell_type": "markdown",
   "metadata": {},
   "source": [
    "#### Define model."
   ]
  },
  {
   "cell_type": "code",
   "execution_count": 47,
   "metadata": {},
   "outputs": [],
   "source": [
    "model_seq_2 = Sequential([\n",
    "    Flatten(),\n",
    "    Dense(300, activation=\"relu\"),\n",
    "    tf.keras.layers.BatchNormalization(),\n",
    "    Dense(200, activation=\"relu\"),\n",
    "    tf.keras.layers.BatchNormalization(),\n",
    "    Dense(10, activation=\"softmax\")\n",
    "])\n",
    "\n",
    "model_seq_2.compile(loss=\"categorical_crossentropy\",\n",
    "              optimizer=Adam(),\n",
    "              metrics=[\"accuracy\"])"
   ]
  },
  {
   "cell_type": "markdown",
   "metadata": {},
   "source": [
    "#### Train model."
   ]
  },
  {
   "cell_type": "code",
   "execution_count": 48,
   "metadata": {},
   "outputs": [
    {
     "name": "stdout",
     "output_type": "stream",
     "text": [
      "Epoch 1/15\n",
      "1500/1500 [==============================] - 6s 3ms/step - loss: 0.2258 - accuracy: 0.9304 - val_loss: 0.1182 - val_accuracy: 0.9631\n",
      "Epoch 2/15\n",
      "1500/1500 [==============================] - 5s 4ms/step - loss: 0.1146 - accuracy: 0.9648 - val_loss: 0.1052 - val_accuracy: 0.9665\n",
      "Epoch 3/15\n",
      "1500/1500 [==============================] - 5s 3ms/step - loss: 0.0871 - accuracy: 0.9731 - val_loss: 0.0932 - val_accuracy: 0.9746\n",
      "Epoch 4/15\n",
      "1500/1500 [==============================] - 5s 3ms/step - loss: 0.0713 - accuracy: 0.9772 - val_loss: 0.0880 - val_accuracy: 0.9732\n",
      "Epoch 5/15\n",
      "1500/1500 [==============================] - 5s 3ms/step - loss: 0.0598 - accuracy: 0.9802 - val_loss: 0.0899 - val_accuracy: 0.9748\n",
      "Epoch 6/15\n",
      "1500/1500 [==============================] - 5s 3ms/step - loss: 0.0503 - accuracy: 0.9835 - val_loss: 0.0909 - val_accuracy: 0.9735\n",
      "Epoch 7/15\n",
      "1500/1500 [==============================] - 5s 3ms/step - loss: 0.0409 - accuracy: 0.9863 - val_loss: 0.0852 - val_accuracy: 0.9757\n",
      "Epoch 8/15\n",
      "1500/1500 [==============================] - 5s 3ms/step - loss: 0.0377 - accuracy: 0.9871 - val_loss: 0.0829 - val_accuracy: 0.9759\n",
      "Epoch 9/15\n",
      "1500/1500 [==============================] - 5s 3ms/step - loss: 0.0348 - accuracy: 0.9884 - val_loss: 0.0853 - val_accuracy: 0.9783\n",
      "Epoch 10/15\n",
      "1500/1500 [==============================] - 5s 4ms/step - loss: 0.0308 - accuracy: 0.9895 - val_loss: 0.0801 - val_accuracy: 0.9783\n",
      "Epoch 11/15\n",
      "1500/1500 [==============================] - 6s 4ms/step - loss: 0.0283 - accuracy: 0.9908 - val_loss: 0.0862 - val_accuracy: 0.9790\n",
      "Epoch 12/15\n",
      "1500/1500 [==============================] - 5s 4ms/step - loss: 0.0246 - accuracy: 0.9918 - val_loss: 0.0811 - val_accuracy: 0.9798\n",
      "Epoch 13/15\n",
      "1500/1500 [==============================] - 5s 4ms/step - loss: 0.0230 - accuracy: 0.9922 - val_loss: 0.0799 - val_accuracy: 0.9804\n",
      "Epoch 14/15\n",
      "1500/1500 [==============================] - 6s 4ms/step - loss: 0.0218 - accuracy: 0.9927 - val_loss: 0.0863 - val_accuracy: 0.9804\n",
      "Epoch 15/15\n",
      "1500/1500 [==============================] - 6s 4ms/step - loss: 0.0205 - accuracy: 0.9929 - val_loss: 0.0906 - val_accuracy: 0.9794\n"
     ]
    }
   ],
   "source": [
    "from tensorflow.keras.callbacks import EarlyStopping, ModelCheckpoint\n",
    "\n",
    "checkpoint_cb = ModelCheckpoint(\"model_seq_2.h5\", save_best_only=True)\n",
    "early_stopping_cb = EarlyStopping(patience=3, restore_best_weights=True)\n",
    "\n",
    "\n",
    "history_seq_2 = model_seq_2.fit(x_train, y_train, epochs=15, validation_split=0.2,\n",
    "                                callbacks=[checkpoint_cb, early_stopping_cb])"
   ]
  },
  {
   "cell_type": "markdown",
   "metadata": {},
   "source": [
    "#### Plot training progress."
   ]
  },
  {
   "cell_type": "code",
   "execution_count": 49,
   "metadata": {},
   "outputs": [
    {
     "data": {
      "image/png": "[encoded data removed]",
      "text/plain": [
       "<Figure size 576x360 with 1 Axes>"
      ]
     },
     "metadata": {
      "needs_background": "light"
     },
     "output_type": "display_data"
    }
   ],
   "source": [
    "pd.DataFrame(history_seq_2.history).plot(figsize=(8, 5))\n",
    "plt.grid(True)\n",
    "plt.gca().set_ylim(0, 1) \n",
    "plt.show()"
   ]
  },
  {
   "cell_type": "code",
   "execution_count": 50,
   "metadata": {},
   "outputs": [
    {
     "data": {
      "image/png": "[encoded data removed]",
      "text/plain": [
       "<Figure size 432x288 with 1 Axes>"
      ]
     },
     "metadata": {
      "needs_background": "light"
     },
     "output_type": "display_data"
    },
    {
     "data": {
      "image/png": "[encoded data removed]",
      "text/plain": [
       "<Figure size 432x288 with 1 Axes>"
      ]
     },
     "metadata": {
      "needs_background": "light"
     },
     "output_type": "display_data"
    }
   ],
   "source": [
    "p = plt.figure(1)\n",
    "plt.plot(history_seq_2.history['loss'], label=\"Training\")\n",
    "plt.plot(history_seq_2.history['val_loss'], label=\"Validation\")\n",
    "plt.ylabel('Loss')\n",
    "plt.xlabel('No. epoch')\n",
    "plt.legend(loc=\"upper right\")\n",
    "\n",
    "p2 = plt.figure(2)\n",
    "plt.plot(history_seq_2.history['accuracy'], label=\"Training\")\n",
    "plt.plot(history_seq_2.history['val_accuracy'], label=\"Validation\")\n",
    "plt.ylabel('Accuracy')\n",
    "plt.xlabel('No. epoch')\n",
    "plt.legend(loc=\"lower right\")\n",
    "\n",
    "plt.show()"
   ]
  },
  {
   "cell_type": "markdown",
   "metadata": {},
   "source": [
    "Evaluate model."
   ]
  },
  {
   "cell_type": "code",
   "execution_count": 51,
   "metadata": {},
   "outputs": [
    {
     "name": "stdout",
     "output_type": "stream",
     "text": [
      "313/313 [==============================] - 1s 2ms/step - loss: 0.0748 - accuracy: 0.9805\n"
     ]
    },
    {
     "data": {
      "text/plain": [
       "[0.07481544464826584, 0.9804999828338623]"
      ]
     },
     "execution_count": 51,
     "metadata": {},
     "output_type": "execute_result"
    }
   ],
   "source": [
    "model_seq_2.evaluate(x_test, y_test)"
   ]
  },
  {
   "cell_type": "code",
   "execution_count": null,
   "metadata": {},
   "outputs": [],
   "source": []
  }
 ],
 "metadata": {
  "accelerator": "GPU",
  "colab": {
   "collapsed_sections": [],
   "name": "dl_tut_6_solution.ipynb",
   "provenance": []
  },
  "kernelspec": {
   "display_name": "Python 3",
   "language": "python",
   "name": "python3"
  },
  "language_info": {
   "codemirror_mode": {
    "name": "ipython",
    "version": 3
   },
   "file_extension": ".py",
   "mimetype": "text/x-python",
   "name": "python",
   "nbconvert_exporter": "python",
   "pygments_lexer": "ipython3",
   "version": "3.8.5"
  }
 },
 "nbformat": 4,
 "nbformat_minor": 1
}
