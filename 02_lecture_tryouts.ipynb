{
 "cells": [
  {
   "cell_type": "markdown",
   "metadata": {},
   "source": [
    "### Prediction with a single network"
   ]
  },
  {
   "cell_type": "code",
   "execution_count": 14,
   "metadata": {},
   "outputs": [
    {
     "output_type": "stream",
     "name": "stdout",
     "text": [
      "Prediction is: 0.8500000000000001 | error is: 0.0025000000000000044\n"
     ]
    }
   ],
   "source": [
    "weight = 0.1\n",
    "goal_pred = 0.8\n",
    "\n",
    "def neural_network(x, weight):\n",
    "    prediction = x * weight \n",
    "    return prediction\n",
    "\n",
    "number_of_offsides = [8.5, 9.5, 10, 9]\n",
    "x = number_of_offsides[0]\n",
    "\n",
    "pred = neural_network(x, weight)\n",
    "error = (pred - goal_pred) ** 2\n",
    "\n",
    "print('Prediction is: {} | error is: {}'.format(pred, error))"
   ]
  },
  {
   "cell_type": "markdown",
   "metadata": {},
   "source": [
    "### Measuring error and finding the direction and amount"
   ]
  },
  {
   "cell_type": "code",
   "execution_count": 15,
   "metadata": {
    "scrolled": true
   },
   "outputs": [
    {
     "output_type": "stream",
     "name": "stdout",
     "text": [
      "P : 0.25, E : 0.30250000000000005, D : -0.275, W : 0.775\nP : 0.3875, E : 0.17015625000000004, D : -0.20625000000000002, W : 0.9812500000000001\nP : 0.49062500000000003, E : 0.095712890625, D : -0.1546875, W : 1.1359375\nP : 0.56796875, E : 0.05383850097656251, D : -0.11601562500000001, W : 1.251953125\nP : 0.6259765625, E : 0.03028415679931642, D : -0.08701171875000002, W : 1.33896484375\nP : 0.669482421875, E : 0.0170348381996155, D : -0.06525878906250004, W : 1.4042236328125\nP : 0.70211181640625, E : 0.00958209648728372, D : -0.04894409179687503, W : 1.453167724609375\nP : 0.7265838623046875, E : 0.005389929274097089, D : -0.03670806884765626, W : 1.4898757934570312\nP : 0.7449378967285156, E : 0.0030318352166796153, D : -0.02753105163574221, W : 1.5174068450927733\nP : 0.7587034225463867, E : 0.0017054073093822882, D : -0.020648288726806685, W : 1.53805513381958\nP : 0.76902756690979, E : 0.0009592916115275371, D : -0.015486216545105014, W : 1.553541350364685\nP : 0.7767706751823426, E : 0.0005396015314842384, D : -0.011614662408828746, W : 1.5651560127735138\nP : 0.7825780063867569, E : 0.000303525861459885, D : -0.008710996806621574, W : 1.5738670095801353\nP : 0.7869335047900676, E : 0.00017073329707118678, D : -0.006533247604966208, W : 1.5804002571851015\nP : 0.7902001285925507, E : 9.603747960254256e-05, D : -0.004899935703724656, W : 1.5853001928888262\nP : 0.7926500964444131, E : 5.402108227642978e-05, D : -0.003674951777793478, W : 1.5889751446666196\nP : 0.7944875723333098, E : 3.038685878049206e-05, D : -0.0027562138333451225, W : 1.5917313584999646\nP : 0.7958656792499823, E : 1.7092608064027242e-05, D : -0.0020671603750088696, W : 1.5937985188749735\nP : 0.7968992594374867, E : 9.614592036015323e-06, D : -0.0015503702812566522, W : 1.5953488891562302\nP : 0.7976744445781151, E : 5.408208020258491e-06, D : -0.0011627777109424753, W : 1.5965116668671726\n"
     ]
    }
   ],
   "source": [
    "weight = 0.5\n",
    "goal_pred = 0.8\n",
    "input = 0.5\n",
    "for iteration in range(20):\n",
    "    pred = input * weight\n",
    "    error = (pred - goal_pred) ** 2 \n",
    "    direction_and_amount = (pred - goal_pred) * input \n",
    "    weight = weight - direction_and_amount\n",
    "    print('P : {}, E : {}, D : {}, W : {}'.format(pred, error, direction_and_amount, weight))\n",
    "    \n",
    "#print(weight, error)"
   ]
  },
  {
   "cell_type": "markdown",
   "metadata": {},
   "source": [
    "#### Putting it all in a function"
   ]
  },
  {
   "cell_type": "code",
   "execution_count": 16,
   "metadata": {},
   "outputs": [
    {
     "output_type": "stream",
     "name": "stdout",
     "text": [
      "P : 0.25, E : 0.30250000000000005, D : -0.275, W : 0.775\nP : 0.3875, E : 0.17015625000000004, D : -0.20625000000000002, W : 0.9812500000000001\nP : 0.49062500000000003, E : 0.095712890625, D : -0.1546875, W : 1.1359375\nP : 0.56796875, E : 0.05383850097656251, D : -0.11601562500000001, W : 1.251953125\nP : 0.6259765625, E : 0.03028415679931642, D : -0.08701171875000002, W : 1.33896484375\nP : 0.669482421875, E : 0.0170348381996155, D : -0.06525878906250004, W : 1.4042236328125\nP : 0.70211181640625, E : 0.00958209648728372, D : -0.04894409179687503, W : 1.453167724609375\nP : 0.7265838623046875, E : 0.005389929274097089, D : -0.03670806884765626, W : 1.4898757934570312\nP : 0.7449378967285156, E : 0.0030318352166796153, D : -0.02753105163574221, W : 1.5174068450927733\nP : 0.7587034225463867, E : 0.0017054073093822882, D : -0.020648288726806685, W : 1.53805513381958\nP : 0.76902756690979, E : 0.0009592916115275371, D : -0.015486216545105014, W : 1.553541350364685\nP : 0.7767706751823426, E : 0.0005396015314842384, D : -0.011614662408828746, W : 1.5651560127735138\nP : 0.7825780063867569, E : 0.000303525861459885, D : -0.008710996806621574, W : 1.5738670095801353\nP : 0.7869335047900676, E : 0.00017073329707118678, D : -0.006533247604966208, W : 1.5804002571851015\nP : 0.7902001285925507, E : 9.603747960254256e-05, D : -0.004899935703724656, W : 1.5853001928888262\nP : 0.7926500964444131, E : 5.402108227642978e-05, D : -0.003674951777793478, W : 1.5889751446666196\nP : 0.7944875723333098, E : 3.038685878049206e-05, D : -0.0027562138333451225, W : 1.5917313584999646\nP : 0.7958656792499823, E : 1.7092608064027242e-05, D : -0.0020671603750088696, W : 1.5937985188749735\nP : 0.7968992594374867, E : 9.614592036015323e-06, D : -0.0015503702812566522, W : 1.5953488891562302\nP : 0.7976744445781151, E : 5.408208020258491e-06, D : -0.0011627777109424753, W : 1.5965116668671726\nFinal rrediction is: 0.7976744445781151 | and Final error is: 5.408208020258491e-06\n"
     ]
    }
   ],
   "source": [
    "weight = 0.5\n",
    "goal_pred = 0.8\n",
    "\n",
    "def neural_network2(input_, weight, goal_pred):\n",
    "    prediction = input_ * weight \n",
    "    error = (prediction - goal_pred) ** 2 \n",
    "    \n",
    "    return prediction, error\n",
    "\n",
    "number_of_offsides = [0.5, 9.5, 10, 9]\n",
    "input_ = number_of_offsides[0]\n",
    "\n",
    "for iteration in range(20):\n",
    "    pred, error = neural_network2(input_, weight, goal_pred)\n",
    "    direction_and_amount = (pred - goal_pred) * input_ \n",
    "    weight = weight - direction_and_amount\n",
    "    print('P : {}, E : {}, D : {}, W : {}'.format(pred, error, direction_and_amount, weight))\n",
    "    \n",
    "\n",
    "print('Final rrediction is: {} | and Final error is: {}'.format(pred, error))"
   ]
  },
  {
   "cell_type": "markdown",
   "metadata": {},
   "source": [
    "### Basic Gradient Descent Algorithm\n",
    "\n",
    "– error is a measure of how much the network missed by (error should  be always positive)\n",
    "\n",
    "– weighted_delta is the derivate of weight and error"
   ]
  },
  {
   "cell_type": "code",
   "execution_count": 17,
   "metadata": {},
   "outputs": [
    {
     "output_type": "stream",
     "name": "stdout",
     "text": [
      "Error:0.30250000000000005 Prediction:0.25 Weight:0.775\nError:0.17015625000000004 Prediction:0.3875 Weight:0.9812500000000001\nError:0.095712890625 Prediction:0.49062500000000003 Weight:1.1359375\nError:0.05383850097656251 Prediction:0.56796875 Weight:1.251953125\nError:0.03028415679931642 Prediction:0.6259765625 Weight:1.33896484375\nError:0.0170348381996155 Prediction:0.669482421875 Weight:1.4042236328125\nError:0.00958209648728372 Prediction:0.70211181640625 Weight:1.453167724609375\nError:0.005389929274097089 Prediction:0.7265838623046875 Weight:1.4898757934570312\nError:0.0030318352166796153 Prediction:0.7449378967285156 Weight:1.5174068450927733\nError:0.0017054073093822882 Prediction:0.7587034225463867 Weight:1.53805513381958\nError:0.0009592916115275371 Prediction:0.76902756690979 Weight:1.553541350364685\nError:0.0005396015314842384 Prediction:0.7767706751823426 Weight:1.5651560127735138\nError:0.000303525861459885 Prediction:0.7825780063867569 Weight:1.5738670095801353\nError:0.00017073329707118678 Prediction:0.7869335047900676 Weight:1.5804002571851015\nError:9.603747960254256e-05 Prediction:0.7902001285925507 Weight:1.5853001928888262\nError:5.402108227642978e-05 Prediction:0.7926500964444131 Weight:1.5889751446666196\nError:3.038685878049206e-05 Prediction:0.7944875723333098 Weight:1.5917313584999646\nError:1.7092608064027242e-05 Prediction:0.7958656792499823 Weight:1.5937985188749735\nError:9.614592036015323e-06 Prediction:0.7968992594374867 Weight:1.5953488891562302\nError:5.408208020258491e-06 Prediction:0.7976744445781151 Weight:1.5965116668671726\n"
     ]
    }
   ],
   "source": [
    "weight = 0.5\n",
    "goal_pred = 0.8\n",
    "x = 0.5\n",
    "\n",
    "for iteration in range(20):\n",
    "    pred = x * weight\n",
    "    error = (pred - goal_pred) ** 2\n",
    "    delta = pred - goal_pred\n",
    "    weight_delta = delta * x\n",
    "    weight = weight - weight_delta\n",
    "    print(\"Error:\" + str(error) + \" Prediction:\" + str(pred) + \" Weight:\" + str(weight))"
   ]
  },
  {
   "source": [
    "### Final GD Algo with alpha"
   ],
   "cell_type": "markdown",
   "metadata": {}
  },
  {
   "cell_type": "code",
   "execution_count": 18,
   "metadata": {},
   "outputs": [
    {
     "output_type": "stream",
     "name": "stdout",
     "text": [
      "Error:0.03999999999999998 Prediction:1.0 Weight:0.46\nError:0.0144 Prediction:0.92 Weight:0.436\nError:0.005183999999999993 Prediction:0.872 Weight:0.42160000000000003\nError:0.0018662400000000014 Prediction:0.8432000000000001 Weight:0.41296000000000005\nError:0.0006718464000000028 Prediction:0.8259200000000001 Weight:0.407776\nError:0.00024186470400000033 Prediction:0.815552 Weight:0.4046656\nError:8.70712934399997e-05 Prediction:0.8093312 Weight:0.40279936\nError:3.134566563839939e-05 Prediction:0.80559872 Weight:0.401679616\nError:1.1284439629823931e-05 Prediction:0.803359232 Weight:0.4010077696\nError:4.062398266736526e-06 Prediction:0.8020155392 Weight:0.40060466176000004\nError:1.4624633760252567e-06 Prediction:0.8012093235200001 Weight:0.40036279705600003\nError:5.264868153690924e-07 Prediction:0.8007255941120001 Weight:0.40021767823360005\nError:1.8953525353291194e-07 Prediction:0.8004353564672001 Weight:0.40013060694016006\nError:6.82326912718715e-08 Prediction:0.8002612138803201 Weight:0.40007836416409603\nError:2.456376885786678e-08 Prediction:0.8001567283281921 Weight:0.40004701849845764\nError:8.842956788836216e-09 Prediction:0.8000940369969153 Weight:0.4000282110990746\nError:3.1834644439835434e-09 Prediction:0.8000564221981492 Weight:0.40001692665944477\nError:1.1460471998340758e-09 Prediction:0.8000338533188895 Weight:0.40001015599566686\nError:4.125769919393652e-10 Prediction:0.8000203119913337 Weight:0.40000609359740014\nError:1.485277170987127e-10 Prediction:0.8000121871948003 Weight:0.4000036561584401\n"
     ]
    }
   ],
   "source": [
    "weight = 0.5 \n",
    "goal_pred = 0.8 \n",
    "x = 2 \n",
    "alpha = 0.1\n",
    "\n",
    "for iteration in range(20):\n",
    "    pred = x * weight\n",
    "    error = (pred - goal_pred) ** 2\n",
    "    derivative = x * (pred - goal_pred)\n",
    "    weight = weight - (alpha * derivative)\n",
    "    print(\"Error:\" + str(error) + \" Prediction:\" + str(pred) + \" Weight:\" + str(weight))"
   ]
  },
  {
   "cell_type": "code",
   "execution_count": null,
   "metadata": {},
   "outputs": [],
   "source": []
  },
  {
   "cell_type": "code",
   "execution_count": null,
   "metadata": {},
   "outputs": [],
   "source": []
  }
 ],
 "metadata": {
  "kernelspec": {
   "display_name": "Python 3",
   "language": "python",
   "name": "python3"
  },
  "language_info": {
   "codemirror_mode": {
    "name": "ipython",
    "version": 3
   },
   "file_extension": ".py",
   "mimetype": "text/x-python",
   "name": "python",
   "nbconvert_exporter": "python",
   "pygments_lexer": "ipython3",
   "version": "3.8.5-final"
  }
 },
 "nbformat": 4,
 "nbformat_minor": 4
}