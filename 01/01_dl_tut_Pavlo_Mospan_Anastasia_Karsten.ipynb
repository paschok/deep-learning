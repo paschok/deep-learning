{
 "cells": [
  {
   "cell_type": "markdown",
   "metadata": {},
   "source": [
    "## Exercise - DL Tutorial 1 \n",
    "\n",
    "Please complete the following notebook and send it via email to manuel.milling@informatik.uni-augsburg.de AND maurice.gerczuk@informatik.uni-augsburg.de"
   ]
  },
  {
   "cell_type": "markdown",
   "metadata": {},
   "source": [
    " ## student names:  Pavlo Mospan, Anastasia Karsten"
   ]
  },
  {
   "cell_type": "markdown",
   "metadata": {},
   "source": [
    "For the following numpy arrays $A$ of shape (10,10) and $w$ of shape (1,10): "
   ]
  },
  {
   "cell_type": "code",
   "execution_count": 1,
   "metadata": {},
   "outputs": [
    {
     "name": "stdout",
     "output_type": "stream",
     "text": [
      "(10, 10)\n",
      "(1, 10)\n"
     ]
    }
   ],
   "source": [
    "import numpy as np \n",
    "A = np.array([[0.69145505, 0.86931882, 0.88576413, 0.82707554, 0.94754421, 0.54767962,  0.51818679, 0.27907936, 0.95212406, 0.22750068], \\\n",
    "              [0.345638,   0.16172159, 0.87807572, 0.38444467, 0.84255332, 0.69666159,  0.43339905, 0.91927538, 0.58666126, 0.83215206], \\\n",
    "              [0.91359442, 0.06356911, 0.37205853, 0.18242315, 0.37961342, 0.93335263,  0.34068447, 0.48598708, 0.24260729, 0.70004846], \\\n",
    "              [0.75245372, 0.64147803, 0.84013461, 0.6152693,  0.02235612, 0.4492574,   0.55206705, 0.69409179, 0.1666939,  0.67387225], \\\n",
    "              [0.30664677, 0.87559232, 0.07164895, 0.85516997, 0.77945438, 0.51948711,  0.18721151, 0.7690967 , 0.53605078, 0.55431431], \\\n",
    "              [0.1750064,  0.95009262, 0.57121048, 0.87359026, 0.05715099, 0.43202169,  0.3648696,  0.24367817, 0.06807447, 0.46999578], \\\n",
    "              [0.41121198, 0.10125657, 0.0869751,  0.91816382, 0.01738795, 0.19420588,  0.00127754, 0.19281699, 0.56083174, 0.55424236], \\\n",
    "              [0.34467108, 0.18352578, 0.69203741, 0.48087863, 0.39596428, 0.28107969,  0.09727506, 0.11236618, 0.82687268, 0.22700161], \\\n",
    "              [0.92788092, 0.87184167, 0.72492497, 0.94086364, 0.86998108, 0.35178978,  0.45463869, 0.0242793,  0.75607483, 0.21317889], \\\n",
    "              [0.15680697, 0.13109825, 0.93463861, 0.78143659, 0.30680001, 0.67935342,  0.3583568,  0.7522564,  0.19810852, 0.22378965]])\n",
    "\n",
    "\n",
    "w = np.array([[0.49039597, 0.73424538, 0.08249155, 0.0488797,  0.62525918, 0.29331343, 0.76435348, 0.68825002, 0.53465669, 0.3399619]])\n",
    "print(A.shape)\n",
    "print(w.shape)"
   ]
  },
  {
   "cell_type": "markdown",
   "metadata": {},
   "source": [
    "Answer the following 10 questions using Numpy. Avoid the explicit use of ANY for and while loops, but rather use numpy methods and operations to solve the tasks, as the strengths of numpy, its efficiency and clarity, lie within them."
   ]
  },
  {
   "cell_type": "markdown",
   "metadata": {},
   "source": [
    "### 1.   what is the row index in $A$ that has the largest last element? "
   ]
  },
  {
   "cell_type": "code",
   "execution_count": 2,
   "metadata": {},
   "outputs": [
    {
     "data": {
      "text/plain": [
       "1"
      ]
     },
     "execution_count": 2,
     "metadata": {},
     "output_type": "execute_result"
    }
   ],
   "source": [
    "# Option 1\n",
    "\n",
    "# Taking the last column of A and returning the index of the max value, which is the row index we look for\n",
    "np.argmax(A[:,9], axis=0)"
   ]
  },
  {
   "cell_type": "code",
   "execution_count": 3,
   "metadata": {},
   "outputs": [
    {
     "name": "stdout",
     "output_type": "stream",
     "text": [
      "The row index in A that has the largest last elements is : 1\n"
     ]
    }
   ],
   "source": [
    "# Option 2\n",
    "\n",
    "# argsort returns the indices that would sort an array in ascending order\n",
    "row_index_array = np.argsort(A[:,9], axis = 0)\n",
    "print(\"The row index in A that has the largest last elements is : {}\".format(row_index_array[-1]))"
   ]
  },
  {
   "cell_type": "markdown",
   "metadata": {},
   "source": [
    "### 2.   what is the row index in $A$ that has the second largest last element?"
   ]
  },
  {
   "cell_type": "code",
   "execution_count": 4,
   "metadata": {},
   "outputs": [
    {
     "name": "stdout",
     "output_type": "stream",
     "text": [
      "The row index in A that has the second largest last elements is : 2\n"
     ]
    }
   ],
   "source": [
    "row_index_array = np.argsort(A[:,9], axis = 0)\n",
    "print(\"The row index in A that has the second largest last elements is : {}\".format(row_index_array[-2]))"
   ]
  },
  {
   "cell_type": "markdown",
   "metadata": {},
   "source": [
    "### 3.   what are the row indices in $A$ that have a row sum greater than 5?"
   ]
  },
  {
   "cell_type": "code",
   "execution_count": 5,
   "metadata": {},
   "outputs": [
    {
     "data": {
      "text/plain": [
       "array([[0],\n",
       "       [1],\n",
       "       [3],\n",
       "       [4],\n",
       "       [8]])"
      ]
     },
     "execution_count": 5,
     "metadata": {},
     "output_type": "execute_result"
    }
   ],
   "source": [
    "np.argwhere(np.sum(A, axis=1) > 5)"
   ]
  },
  {
   "cell_type": "markdown",
   "metadata": {},
   "source": [
    "### 4.   What is the sum of all elements of the form $A$[i, i+1] in $A$?"
   ]
  },
  {
   "cell_type": "code",
   "execution_count": 6,
   "metadata": {
    "scrolled": false
   },
   "outputs": [
    {
     "name": "stdout",
     "output_type": "stream",
     "text": [
      "Sum of all elements: 4.06939908\n"
     ]
    }
   ],
   "source": [
    "# Get diagonal cooardinates (-1 since we will add 1)\n",
    "d = np.diag_indices(9)\n",
    "\n",
    "# A[i, i+1]\n",
    "diag = (d[0], d[1]+1)\n",
    "\n",
    "#Sum over new diagonal\n",
    "print(\"Sum of all elements:\", np.sum(A[diag]))"
   ]
  },
  {
   "cell_type": "markdown",
   "metadata": {},
   "source": [
    "### 5.   multiply elementwise every row in matrix $A$ by the vector $w$, and then sum the results for every row"
   ]
  },
  {
   "cell_type": "code",
   "execution_count": 7,
   "metadata": {},
   "outputs": [
    {
     "name": "stdout",
     "output_type": "stream",
     "text": [
      "Resulting matrix: \n",
      " [[0.33908677 0.63829333 0.07306806 0.0404272  0.59246072 0.16064179\n",
      "  0.39607788 0.19207638 0.5090595  0.07734156]\n",
      " [0.16949948 0.11874333 0.07243383 0.01879154 0.5268142  0.2043402\n",
      "  0.33127007 0.6326913  0.31366237 0.2829    ]\n",
      " [0.44802302 0.04667533 0.03069168 0.00891679 0.23735678 0.27376486\n",
      "  0.26040336 0.33448062 0.12971161 0.2379898 ]\n",
      " [0.36900027 0.47100228 0.06930401 0.03007418 0.01397837 0.13177323\n",
      "  0.42197437 0.47770869 0.08912401 0.22909089]\n",
      " [0.15037834 0.64289962 0.00591043 0.04180045 0.48736101 0.15237255\n",
      "  0.14309577 0.52933082 0.28660314 0.18844575]\n",
      " [0.08582243 0.69760112 0.04712004 0.04270083 0.03573418 0.12671776\n",
      "  0.27888935 0.16771151 0.03639647 0.15978066]\n",
      " [0.2016567  0.07434717 0.00717471 0.04487957 0.01087198 0.05696319\n",
      "  0.00097649 0.1327063  0.29985244 0.18842129]\n",
      " [0.16902531 0.13475296 0.05708724 0.0235052  0.2475803  0.08244445\n",
      "  0.07435253 0.07733603 0.44209301 0.0771719 ]\n",
      " [0.45502906 0.64014572 0.05980018 0.04598913 0.54396366 0.10318467\n",
      "  0.34750466 0.01671023 0.40424047 0.0724727 ]\n",
      " [0.07689751 0.09625828 0.07709979 0.03819639 0.19182952 0.19926348\n",
      "  0.27391127 0.51774048 0.10592005 0.07607995]] \n",
      " and it's shape: (10, 10) \n",
      "\n",
      "Summing the results for every row : \n",
      " [3.01853317 2.67114631 2.00801385 2.30303029 2.62819786 1.67847435\n",
      " 1.01784983 1.38534892 2.68904048 1.65319672]\n"
     ]
    }
   ],
   "source": [
    "B = A * w\n",
    "print('Resulting matrix: \\n {} \\n and it\\'s shape: {} \\n'.format(B, B.shape))\n",
    "print('Summing the results for every row : \\n', np.sum(B, axis=1))"
   ]
  },
  {
   "cell_type": "markdown",
   "metadata": {},
   "source": [
    "### 6.   do the above task in 5. using matrix multiplication\n"
   ]
  },
  {
   "cell_type": "code",
   "execution_count": 8,
   "metadata": {},
   "outputs": [
    {
     "name": "stdout",
     "output_type": "stream",
     "text": [
      "Resulting vector: \n",
      " [3.01853317 2.67114631 2.00801385 2.30303029 2.62819786 1.67847435\n",
      " 1.01784983 1.38534892 2.68904048 1.65319672] \n",
      " And it's shape: (10,) \n",
      "\n"
     ]
    }
   ],
   "source": [
    "# To performe matrix multiplication I first need to reshape vector from (10,10) to (10,)\n",
    "w_reshaped = w.reshape(10)\n",
    "\n",
    "B = np.matmul(A, w_reshaped)\n",
    "print('Resulting vector: \\n {} \\n And it\\'s shape: {} \\n'.format(B, B.shape))"
   ]
  },
  {
   "cell_type": "code",
   "execution_count": 9,
   "metadata": {},
   "outputs": [
    {
     "name": "stdout",
     "output_type": "stream",
     "text": [
      "In case I still need to sum the elements of array : 21.05283179544215\n"
     ]
    }
   ],
   "source": [
    "print('In case I still need to sum the elements of array :', np.sum(B))"
   ]
  },
  {
   "cell_type": "markdown",
   "metadata": {},
   "source": [
    "### 7.   set all elements of $A$ that are larger than 0.5 to 0. What is the sum of the resulting matrix?"
   ]
  },
  {
   "cell_type": "code",
   "execution_count": 10,
   "metadata": {},
   "outputs": [
    {
     "name": "stdout",
     "output_type": "stream",
     "text": [
      "Resulting matrix: \n",
      " [[0.         0.         0.         0.         0.         0.\n",
      "  0.         0.27907936 0.         0.22750068]\n",
      " [0.345638   0.16172159 0.         0.38444467 0.         0.\n",
      "  0.43339905 0.         0.         0.        ]\n",
      " [0.         0.06356911 0.37205853 0.18242315 0.37961342 0.\n",
      "  0.34068447 0.48598708 0.24260729 0.        ]\n",
      " [0.         0.         0.         0.         0.02235612 0.4492574\n",
      "  0.         0.         0.1666939  0.        ]\n",
      " [0.30664677 0.         0.07164895 0.         0.         0.\n",
      "  0.18721151 0.         0.         0.        ]\n",
      " [0.1750064  0.         0.         0.         0.05715099 0.43202169\n",
      "  0.3648696  0.24367817 0.06807447 0.46999578]\n",
      " [0.41121198 0.10125657 0.0869751  0.         0.01738795 0.19420588\n",
      "  0.00127754 0.19281699 0.         0.        ]\n",
      " [0.34467108 0.18352578 0.         0.48087863 0.39596428 0.28107969\n",
      "  0.09727506 0.11236618 0.         0.22700161]\n",
      " [0.         0.         0.         0.         0.         0.35178978\n",
      "  0.45463869 0.0242793  0.         0.21317889]\n",
      " [0.15680697 0.13109825 0.         0.         0.30680001 0.\n",
      "  0.3583568  0.         0.19810852 0.22378965]]\n",
      "Sum of the resulting matrix :  12.46007933\n"
     ]
    }
   ],
   "source": [
    "# Option 1 using NumPy's built-in Fancy indexing\n",
    "\n",
    "A[A > 0.5] = 0\n",
    "print('Resulting matrix: \\n', A)\n",
    "print('Sum of the resulting matrix : ', np.sum(A))"
   ]
  },
  {
   "cell_type": "code",
   "execution_count": 11,
   "metadata": {
    "scrolled": true
   },
   "outputs": [
    {
     "name": "stdout",
     "output_type": "stream",
     "text": [
      "Resulting matrix: \n",
      " [[0.         0.         0.         0.         0.         0.\n",
      "  0.         0.27907936 0.         0.22750068]\n",
      " [0.345638   0.16172159 0.         0.38444467 0.         0.\n",
      "  0.43339905 0.         0.         0.        ]\n",
      " [0.         0.06356911 0.37205853 0.18242315 0.37961342 0.\n",
      "  0.34068447 0.48598708 0.24260729 0.        ]\n",
      " [0.         0.         0.         0.         0.02235612 0.4492574\n",
      "  0.         0.         0.1666939  0.        ]\n",
      " [0.30664677 0.         0.07164895 0.         0.         0.\n",
      "  0.18721151 0.         0.         0.        ]\n",
      " [0.1750064  0.         0.         0.         0.05715099 0.43202169\n",
      "  0.3648696  0.24367817 0.06807447 0.46999578]\n",
      " [0.41121198 0.10125657 0.0869751  0.         0.01738795 0.19420588\n",
      "  0.00127754 0.19281699 0.         0.        ]\n",
      " [0.34467108 0.18352578 0.         0.48087863 0.39596428 0.28107969\n",
      "  0.09727506 0.11236618 0.         0.22700161]\n",
      " [0.         0.         0.         0.         0.         0.35178978\n",
      "  0.45463869 0.0242793  0.         0.21317889]\n",
      " [0.15680697 0.13109825 0.         0.         0.30680001 0.\n",
      "  0.3583568  0.         0.19810852 0.22378965]]\n",
      "Sum of the resulting matrix :  12.46007933\n"
     ]
    }
   ],
   "source": [
    "# Option 2 using where method\n",
    "\n",
    "B = np.where(A > 0.5, 0, A)\n",
    "print('Resulting matrix: \\n', B)\n",
    "print('Sum of the resulting matrix : ', np.sum(B))"
   ]
  },
  {
   "cell_type": "markdown",
   "metadata": {},
   "source": [
    "### 8.   subtract 1 from all elements of $A$ that are smaller than 0.5. What is the sum of the resulting matrix?"
   ]
  },
  {
   "cell_type": "code",
   "execution_count": 12,
   "metadata": {},
   "outputs": [
    {
     "name": "stdout",
     "output_type": "stream",
     "text": [
      "Resulting matrix: \n",
      " [[-1.         -1.         -1.         -1.         -1.         -1.\n",
      "  -1.         -0.72092064 -1.         -0.77249932]\n",
      " [-0.654362   -0.83827841 -1.         -0.61555533 -1.         -1.\n",
      "  -0.56660095 -1.         -1.         -1.        ]\n",
      " [-1.         -0.93643089 -0.62794147 -0.81757685 -0.62038658 -1.\n",
      "  -0.65931553 -0.51401292 -0.75739271 -1.        ]\n",
      " [-1.         -1.         -1.         -1.         -0.97764388 -0.5507426\n",
      "  -1.         -1.         -0.8333061  -1.        ]\n",
      " [-0.69335323 -1.         -0.92835105 -1.         -1.         -1.\n",
      "  -0.81278849 -1.         -1.         -1.        ]\n",
      " [-0.8249936  -1.         -1.         -1.         -0.94284901 -0.56797831\n",
      "  -0.6351304  -0.75632183 -0.93192553 -0.53000422]\n",
      " [-0.58878802 -0.89874343 -0.9130249  -1.         -0.98261205 -0.80579412\n",
      "  -0.99872246 -0.80718301 -1.         -1.        ]\n",
      " [-0.65532892 -0.81647422 -1.         -0.51912137 -0.60403572 -0.71892031\n",
      "  -0.90272494 -0.88763382 -1.         -0.77299839]\n",
      " [-1.         -1.         -1.         -1.         -1.         -0.64821022\n",
      "  -0.54536131 -0.9757207  -1.         -0.78682111]\n",
      " [-0.84319303 -0.86890175 -1.         -1.         -0.69319999 -1.\n",
      "  -0.6416432  -1.         -0.80189148 -0.77621035]]\n",
      "Sum of the resulting matrix :  -87.53992067\n"
     ]
    }
   ],
   "source": [
    "B = np.where(A < 0.5, A - 1, A)\n",
    "print('Resulting matrix: \\n', B)\n",
    "print('Sum of the resulting matrix : ', np.sum(B))"
   ]
  },
  {
   "cell_type": "markdown",
   "metadata": {},
   "source": [
    "### 9.   what is the sum of all element in A, that are smaller than their column's mean?"
   ]
  },
  {
   "cell_type": "code",
   "execution_count": 13,
   "metadata": {
    "scrolled": false
   },
   "outputs": [
    {
     "name": "stdout",
     "output_type": "stream",
     "text": [
      "[[ True  True  True  True  True  True  True False  True False]\n",
      " [False False  True False  True  True False  True  True  True]\n",
      " [ True  True False False False  True False False False  True]\n",
      " [ True  True  True  True  True False  True  True False  True]\n",
      " [False  True False  True  True  True  True  True  True  True]\n",
      " [False  True  True  True  True False False False False False]\n",
      " [False False False  True  True False  True False  True  True]\n",
      " [False False  True False False False  True  True  True False]\n",
      " [ True  True  True  True  True False False  True  True False]\n",
      " [ True False  True  True False  True False  True False False]] \n",
      "\n",
      "Sum: 0.73968073\n"
     ]
    }
   ],
   "source": [
    "# Get all the column means\n",
    "mean = np.mean(A, axis=0)\n",
    "\n",
    "index = np.array(range(10))\n",
    "\n",
    "# Check every element for whether or not it's bigger than the mean of it's column\n",
    "pick = mean[index] > A[:, index]\n",
    "\n",
    "# print(mean)\n",
    "# print(index)\n",
    "print(pick, \"\\n\")\n",
    "\n",
    "# Get the indices of all the elements that should be added\n",
    "to_add = np.where(pick == True)\n",
    "\n",
    "#Add the elements and print the sum\n",
    "print(\"Sum:\", np.sum(A[to_add]))\n",
    "\n",
    "\n"
   ]
  },
  {
   "cell_type": "markdown",
   "metadata": {},
   "source": [
    "### 10.  create a diagonal matrix $B$ of size 10*10, with $B_{i,i}= i$"
   ]
  },
  {
   "cell_type": "code",
   "execution_count": 14,
   "metadata": {},
   "outputs": [
    {
     "data": {
      "text/plain": [
       "(array([[0, 0, 0, 0, 0, 0, 0, 0, 0, 0],\n",
       "        [0, 1, 0, 0, 0, 0, 0, 0, 0, 0],\n",
       "        [0, 0, 2, 0, 0, 0, 0, 0, 0, 0],\n",
       "        [0, 0, 0, 3, 0, 0, 0, 0, 0, 0],\n",
       "        [0, 0, 0, 0, 4, 0, 0, 0, 0, 0],\n",
       "        [0, 0, 0, 0, 0, 5, 0, 0, 0, 0],\n",
       "        [0, 0, 0, 0, 0, 0, 6, 0, 0, 0],\n",
       "        [0, 0, 0, 0, 0, 0, 0, 7, 0, 0],\n",
       "        [0, 0, 0, 0, 0, 0, 0, 0, 8, 0],\n",
       "        [0, 0, 0, 0, 0, 0, 0, 0, 0, 9]]),\n",
       " (10, 10))"
      ]
     },
     "execution_count": 14,
     "metadata": {},
     "output_type": "execute_result"
    }
   ],
   "source": [
    "B = np.arange(10)\n",
    "B = np.diagflat(B)\n",
    "B, B.shape"
   ]
  },
  {
   "cell_type": "code",
   "execution_count": null,
   "metadata": {},
   "outputs": [],
   "source": []
  }
 ],
 "metadata": {
  "kernelspec": {
   "display_name": "Python 3",
   "language": "python",
   "name": "python3"
  },
  "language_info": {
   "codemirror_mode": {
    "name": "ipython",
    "version": 3
   },
   "file_extension": ".py",
   "mimetype": "text/x-python",
   "name": "python",
   "nbconvert_exporter": "python",
   "pygments_lexer": "ipython3",
   "version": "3.8.5"
  },
  "metadata": {
   "interpreter": {
    "hash": "821298b37d2ca7e8a1b630494d8167f0a3abb548de0abe4c56def7112a804221"
   }
  }
 },
 "nbformat": 4,
 "nbformat_minor": 2
}
